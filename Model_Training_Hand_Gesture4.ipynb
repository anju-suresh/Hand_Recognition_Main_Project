{
 "cells": [
  {
   "cell_type": "markdown",
   "metadata": {
    "id": "MvRA1D6Qrr4p"
   },
   "source": [
    "## Creating Neural Network Model for Hand Gesture Classification\n",
    "\n",
    "Gestures for\n",
    "  1. Play\n",
    "  2. Stop\n",
    "  3. Pause"
   ]
  },
  {
   "cell_type": "markdown",
   "metadata": {
    "id": "HiMCZSlvr2z3"
   },
   "source": [
    "Loading Dataset"
   ]
  },
  {
   "cell_type": "code",
   "execution_count": null,
   "metadata": {
    "colab": {
     "base_uri": "https://localhost:8080/"
    },
    "id": "GvuUquDCb-0f",
    "outputId": "9800e87d-d228-4880-cdce-bd4341803870"
   },
   "outputs": [
    {
     "name": "stdout",
     "output_type": "stream",
     "text": [
      "Cloning into 'Hand_Recognition_Project'...\n",
      "remote: Enumerating objects: 2424, done.\u001b[K\n",
      "remote: Counting objects: 100% (2424/2424), done.\u001b[K\n",
      "remote: Compressing objects: 100% (2416/2416), done.\u001b[K\n",
      "remote: Total 2424 (delta 7), reused 2420 (delta 6), pack-reused 0\u001b[K\n",
      "Receiving objects: 100% (2424/2424), 3.75 MiB | 32.25 MiB/s, done.\n",
      "Resolving deltas: 100% (7/7), done.\n"
     ]
    }
   ],
   "source": [
    "!git clone https://github.com/AjumaML/Hand_Recognition_Project.git"
   ]
  },
  {
   "cell_type": "code",
   "execution_count": null,
   "metadata": {
    "id": "mYblOQVo9mlE"
   },
   "outputs": [],
   "source": [
    "#Importing necessary libraries\n",
    "\n",
    "import numpy as np\n",
    "from imutils import paths\n",
    "import os"
   ]
  },
  {
   "cell_type": "code",
   "execution_count": null,
   "metadata": {
    "id": "RmKYHbi0cMMh"
   },
   "outputs": [],
   "source": [
    "from tensorflow.keras.preprocessing.image import img_to_array\n",
    "from tensorflow.keras.preprocessing.image import load_img"
   ]
  },
  {
   "cell_type": "code",
   "execution_count": null,
   "metadata": {
    "id": "K4jZxOX4ZVVK"
   },
   "outputs": [],
   "source": [
    "#Finding Image path\n",
    "imagePaths = list(paths.list_images('/content/Hand_Recognition_Project/dataset'))"
   ]
  },
  {
   "cell_type": "code",
   "execution_count": null,
   "metadata": {
    "id": "BouYeqeDcUDp"
   },
   "outputs": [],
   "source": [
    "#Retrieving Labels from Image Paths\n",
    "data = []\n",
    "labels = []\n",
    "\n",
    "IMG_SIZE = 224\n",
    "CHANNELS = 3\n",
    "\n",
    "for imagePath in imagePaths:\n",
    "  label = imagePath.split(os.path.sep)[-2]\n",
    "  image = load_img(imagePath, target_size=(IMG_SIZE, IMG_SIZE))\n",
    "  image = img_to_array(image)\n",
    "  image = image/255\n",
    "\n",
    "  data.append(image)\n",
    "  labels.append(label)\n",
    "\n",
    "\n",
    "data = np.array(data, dtype=\"float32\")\n",
    "labels = np.array(labels)"
   ]
  },
  {
   "cell_type": "code",
   "execution_count": null,
   "metadata": {
    "colab": {
     "base_uri": "https://localhost:8080/"
    },
    "id": "_B4foN62ckSq",
    "outputId": "29ce80cb-d232-48b1-dbe4-de93e7afad6e"
   },
   "outputs": [
    {
     "data": {
      "text/plain": [
       "(2400, 224, 224, 3)"
      ]
     },
     "execution_count": 8,
     "metadata": {},
     "output_type": "execute_result"
    }
   ],
   "source": [
    "data.shape"
   ]
  },
  {
   "cell_type": "code",
   "execution_count": null,
   "metadata": {
    "colab": {
     "base_uri": "https://localhost:8080/"
    },
    "id": "VizzD9FHctwL",
    "outputId": "66d8ebbc-2790-4f11-edc0-aba891cbbb99"
   },
   "outputs": [
    {
     "data": {
      "text/plain": [
       "(2400,)"
      ]
     },
     "execution_count": 9,
     "metadata": {},
     "output_type": "execute_result"
    }
   ],
   "source": [
    "labels.shape"
   ]
  },
  {
   "cell_type": "code",
   "execution_count": null,
   "metadata": {
    "colab": {
     "base_uri": "https://localhost:8080/"
    },
    "id": "7JoZQQQNcwJK",
    "outputId": "235437f1-6a55-44b6-eef2-5fb35100f350"
   },
   "outputs": [
    {
     "data": {
      "text/plain": [
       "(array(['Volume_Down', 'Volume_Up', 'play', 'stop'], dtype='<U11'),\n",
       " array([900, 900, 300, 300]))"
      ]
     },
     "execution_count": 11,
     "metadata": {},
     "output_type": "execute_result"
    }
   ],
   "source": [
    "#Finding Label Values\n",
    "np. unique(labels, return_counts=True)"
   ]
  },
  {
   "cell_type": "markdown",
   "metadata": {
    "id": "_HMtf3p-tIgJ"
   },
   "source": [
    "### Encoding Label Values"
   ]
  },
  {
   "cell_type": "code",
   "execution_count": null,
   "metadata": {
    "id": "hinyeohuczXq"
   },
   "outputs": [],
   "source": [
    "from sklearn import preprocessing\n",
    "le = preprocessing.LabelEncoder()\n",
    "labels = le.fit_transform(labels)"
   ]
  },
  {
   "cell_type": "code",
   "execution_count": null,
   "metadata": {
    "id": "BfqoXRZqdFrK"
   },
   "outputs": [],
   "source": [
    "from tensorflow.keras.utils import to_categorical\n",
    "labels = to_categorical(labels)"
   ]
  },
  {
   "cell_type": "code",
   "execution_count": null,
   "metadata": {
    "colab": {
     "base_uri": "https://localhost:8080/"
    },
    "id": "51PapX4edSn5",
    "outputId": "a80fa58e-b0df-42cc-8aae-19a2cf37bac2"
   },
   "outputs": [
    {
     "data": {
      "text/plain": [
       "array([[1., 0., 0., 0.],\n",
       "       [1., 0., 0., 0.],\n",
       "       [1., 0., 0., 0.],\n",
       "       ...,\n",
       "       [0., 0., 1., 0.],\n",
       "       [0., 0., 1., 0.],\n",
       "       [0., 0., 1., 0.]], dtype=float32)"
      ]
     },
     "execution_count": 15,
     "metadata": {},
     "output_type": "execute_result"
    }
   ],
   "source": [
    "labels"
   ]
  },
  {
   "cell_type": "code",
   "execution_count": null,
   "metadata": {
    "id": "nZd6F0OBdb64"
   },
   "outputs": [],
   "source": [
    "# Splitting the dataset into train and test\n",
    "\n",
    "from sklearn.model_selection import train_test_split\n",
    "(trainX, testX, trainY, testY) = train_test_split(data, labels,\ttest_size=0.20, stratify=labels, random_state=42)"
   ]
  },
  {
   "cell_type": "code",
   "execution_count": null,
   "metadata": {
    "id": "7LjLKcoqdeXQ"
   },
   "outputs": [],
   "source": [
    "from tensorflow.keras.applications import ResNet50V2\n",
    "from tensorflow.keras.layers import Input"
   ]
  },
  {
   "cell_type": "code",
   "execution_count": null,
   "metadata": {
    "colab": {
     "base_uri": "https://localhost:8080/"
    },
    "id": "m2IdsZWqd9X2",
    "outputId": "5be36e87-185a-4e18-c365-cdfd35c4c192"
   },
   "outputs": [
    {
     "name": "stdout",
     "output_type": "stream",
     "text": [
      "Downloading data from https://storage.googleapis.com/tensorflow/keras-applications/resnet/resnet50v2_weights_tf_dim_ordering_tf_kernels_notop.h5\n",
      "94668760/94668760 [==============================] - 0s 0us/step\n"
     ]
    }
   ],
   "source": [
    "#Using ResNet for Feature Extraction\n",
    "feature_extractor_layer = ResNet50V2(weights=\"imagenet\", include_top=False,\n",
    "\tinput_tensor=Input(shape=(IMG_SIZE,IMG_SIZE,CHANNELS)))"
   ]
  },
  {
   "cell_type": "code",
   "execution_count": null,
   "metadata": {
    "id": "NMVaJh3Qd_iI"
   },
   "outputs": [],
   "source": [
    "feature_extractor_layer.trainable = False"
   ]
  },
  {
   "cell_type": "code",
   "execution_count": null,
   "metadata": {
    "id": "MMfLzDXdeEbp"
   },
   "outputs": [],
   "source": [
    "import tensorflow as tf\n",
    "from tensorflow.keras import layers\n",
    "from tensorflow.keras.optimizers import Adam"
   ]
  },
  {
   "cell_type": "code",
   "execution_count": null,
   "metadata": {
    "id": "ipCoGE2B6Pdv"
   },
   "outputs": [],
   "source": [
    "# Model building\n",
    "\n",
    "model = tf.keras.Sequential()\n",
    "model.add(feature_extractor_layer)\n",
    "model.add(layers.Flatten(name=\"flatten\"))\n",
    "model.add(layers.Dense(1024, activation='relu', name='hidden_layer'))\n",
    "model.add(layers.Dropout(0.5))\n",
    "model.add(layers.Dense(4, activation='softmax', name='output'))"
   ]
  },
  {
   "cell_type": "code",
   "execution_count": null,
   "metadata": {
    "colab": {
     "base_uri": "https://localhost:8080/"
    },
    "id": "qd8XVJNTeIcY",
    "outputId": "056fefd7-0d69-44d5-85fc-3e9813c01e1e"
   },
   "outputs": [
    {
     "name": "stdout",
     "output_type": "stream",
     "text": [
      "Model: \"sequential_6\"\n",
      "_________________________________________________________________\n",
      " Layer (type)                Output Shape              Param #   \n",
      "=================================================================\n",
      " resnet50v2 (Functional)     (None, 7, 7, 2048)        23564800  \n",
      "                                                                 \n",
      " flatten (Flatten)           (None, 100352)            0         \n",
      "                                                                 \n",
      " hidden_layer (Dense)        (None, 1024)              102761472 \n",
      "                                                                 \n",
      " dropout_6 (Dropout)         (None, 1024)              0         \n",
      "                                                                 \n",
      " output (Dense)              (None, 4)                 4100      \n",
      "                                                                 \n",
      "=================================================================\n",
      "Total params: 126,330,372\n",
      "Trainable params: 102,765,572\n",
      "Non-trainable params: 23,564,800\n",
      "_________________________________________________________________\n"
     ]
    }
   ],
   "source": [
    "model.summary()"
   ]
  },
  {
   "cell_type": "code",
   "execution_count": null,
   "metadata": {
    "id": "e6I346dEeSQF"
   },
   "outputs": [],
   "source": [
    "#Compliling Model\n",
    "model.compile(\n",
    "  optimizer=tf.keras.optimizers.Adam(learning_rate=1e-5),\n",
    "  loss=\"categorical_crossentropy\",\n",
    "  metrics=[\"accuracy\"])"
   ]
  },
  {
   "cell_type": "code",
   "execution_count": null,
   "metadata": {
    "id": "9Qqv3LUOeUIG"
   },
   "outputs": [],
   "source": [
    "#Pre-processing Image before training Model\n",
    "\n",
    "from tensorflow.keras.preprocessing.image import ImageDataGenerator\n",
    "aug = ImageDataGenerator(\n",
    "\trotation_range=20,\n",
    "\tzoom_range=0.15,\n",
    "\twidth_shift_range=0.2,\n",
    "\theight_shift_range=0.2,\n",
    "\tshear_range=0.15,\n",
    "\thorizontal_flip=True,\n",
    "\tfill_mode=\"nearest\")"
   ]
  },
  {
   "cell_type": "code",
   "execution_count": null,
   "metadata": {
    "colab": {
     "base_uri": "https://localhost:8080/"
    },
    "id": "en5WcQDAeVzW",
    "outputId": "fe92128e-004a-40e4-c635-69357d5f9ed5"
   },
   "outputs": [
    {
     "name": "stdout",
     "output_type": "stream",
     "text": [
      "Epoch 1/10\n",
      "60/60 [==============================] - 28s 396ms/step - loss: 0.2508 - accuracy: 0.9312 - val_loss: 3.0840e-04 - val_accuracy: 1.0000\n",
      "Epoch 2/10\n",
      "60/60 [==============================] - 23s 388ms/step - loss: 0.0089 - accuracy: 0.9969 - val_loss: 5.0821e-05 - val_accuracy: 1.0000\n",
      "Epoch 3/10\n",
      "60/60 [==============================] - 23s 390ms/step - loss: 0.0115 - accuracy: 0.9964 - val_loss: 1.8076e-04 - val_accuracy: 1.0000\n",
      "Epoch 4/10\n",
      "60/60 [==============================] - 22s 373ms/step - loss: 0.0052 - accuracy: 0.9979 - val_loss: 2.7397e-05 - val_accuracy: 1.0000\n",
      "Epoch 5/10\n",
      "60/60 [==============================] - 22s 369ms/step - loss: 0.0024 - accuracy: 0.9995 - val_loss: 3.4375e-05 - val_accuracy: 1.0000\n",
      "Epoch 6/10\n",
      "60/60 [==============================] - 24s 394ms/step - loss: 0.0042 - accuracy: 0.9990 - val_loss: 8.9547e-06 - val_accuracy: 1.0000\n",
      "Epoch 7/10\n",
      "60/60 [==============================] - 22s 366ms/step - loss: 0.0061 - accuracy: 0.9979 - val_loss: 7.1153e-07 - val_accuracy: 1.0000\n",
      "Epoch 8/10\n",
      "60/60 [==============================] - 23s 389ms/step - loss: 0.0052 - accuracy: 0.9990 - val_loss: 5.9952e-07 - val_accuracy: 1.0000\n",
      "Epoch 9/10\n",
      "60/60 [==============================] - 24s 392ms/step - loss: 0.0019 - accuracy: 0.9990 - val_loss: 3.7040e-06 - val_accuracy: 1.0000\n",
      "Epoch 10/10\n",
      "60/60 [==============================] - 24s 393ms/step - loss: 4.8389e-04 - accuracy: 1.0000 - val_loss: 3.3344e-06 - val_accuracy: 1.0000\n"
     ]
    }
   ],
   "source": [
    "#Fitting Model\n",
    "history = model.fit(aug.flow(trainX, trainY),\n",
    "\t                  validation_data=(testX, testY),\n",
    "\t                  epochs=10)"
   ]
  },
  {
   "cell_type": "code",
   "execution_count": null,
   "metadata": {
    "id": "Lq3fn6oreX2-"
   },
   "outputs": [],
   "source": [
    "from sklearn.metrics import classification_report"
   ]
  },
  {
   "cell_type": "code",
   "execution_count": null,
   "metadata": {
    "colab": {
     "base_uri": "https://localhost:8080/"
    },
    "id": "_SeUUKZ_lT93",
    "outputId": "46a8f909-2eb8-4383-8a77-c8e2cfd872d3"
   },
   "outputs": [
    {
     "name": "stdout",
     "output_type": "stream",
     "text": [
      "15/15 [==============================] - 2s 92ms/step\n"
     ]
    }
   ],
   "source": [
    "predIdxs = model.predict(testX)"
   ]
  },
  {
   "cell_type": "code",
   "execution_count": null,
   "metadata": {
    "colab": {
     "base_uri": "https://localhost:8080/"
    },
    "id": "z9h5G5GWjqpa",
    "outputId": "66e2c3af-2c0b-4110-d3a3-f048a48e3750"
   },
   "outputs": [
    {
     "data": {
      "text/plain": [
       "array([3.930464e-07, 9.999962e-01, 1.436400e-07, 3.266383e-06],\n",
       "      dtype=float32)"
      ]
     },
     "execution_count": 49,
     "metadata": {},
     "output_type": "execute_result"
    }
   ],
   "source": [
    "predIdxs[0]"
   ]
  },
  {
   "cell_type": "code",
   "execution_count": null,
   "metadata": {
    "id": "7VQW-tGAjq4r"
   },
   "outputs": [],
   "source": [
    "predIdxs = np.argmax(predIdxs, axis=1)"
   ]
  },
  {
   "cell_type": "markdown",
   "metadata": {
    "id": "zvcGkglMt74_"
   },
   "source": [
    "### Classification Report"
   ]
  },
  {
   "cell_type": "code",
   "execution_count": null,
   "metadata": {
    "colab": {
     "base_uri": "https://localhost:8080/"
    },
    "id": "4FEzyP5MjsbS",
    "outputId": "95fe1e6a-4ec2-4d73-8e3f-479dbde8f376"
   },
   "outputs": [
    {
     "name": "stdout",
     "output_type": "stream",
     "text": [
      "              precision    recall  f1-score   support\n",
      "\n",
      " Volume_Down       1.00      1.00      1.00       180\n",
      "   Volume_Up       1.00      1.00      1.00       180\n",
      "        play       1.00      1.00      1.00        60\n",
      "        stop       1.00      1.00      1.00        60\n",
      "\n",
      "    accuracy                           1.00       480\n",
      "   macro avg       1.00      1.00      1.00       480\n",
      "weighted avg       1.00      1.00      1.00       480\n",
      "\n"
     ]
    }
   ],
   "source": [
    "print(classification_report(testY.argmax(axis=1), predIdxs,target_names=le.classes_))"
   ]
  },
  {
   "cell_type": "code",
   "execution_count": null,
   "metadata": {
    "id": "s2U9uq_qpvRV"
   },
   "outputs": [],
   "source": [
    "#Trained Model\n",
    "model.save('model_gesture_recognition.h5', save_format=\"h5\")"
   ]
  },
  {
   "cell_type": "code",
   "execution_count": null,
   "metadata": {
    "id": "epsMgVGAkWnh"
   },
   "outputs": [],
   "source": [
    "#Trained Model for Hand Gesture Recognition\n",
    "model = tf.keras.models.load_model('/content/model_gesture_recognition.h5')"
   ]
  },
  {
   "cell_type": "code",
   "execution_count": null,
   "metadata": {
    "id": "KZBHPl3ik2KC"
   },
   "outputs": [],
   "source": []
  }
 ],
 "metadata": {
  "accelerator": "GPU",
  "colab": {
   "provenance": []
  },
  "gpuClass": "standard",
  "kernelspec": {
   "display_name": "Python 3 (ipykernel)",
   "language": "python",
   "name": "python3"
  },
  "language_info": {
   "codemirror_mode": {
    "name": "ipython",
    "version": 3
   },
   "file_extension": ".py",
   "mimetype": "text/x-python",
   "name": "python",
   "nbconvert_exporter": "python",
   "pygments_lexer": "ipython3",
   "version": "3.8.13"
  },
  "toc-autonumbering": true
 },
 "nbformat": 4,
 "nbformat_minor": 4
}
